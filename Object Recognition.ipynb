{
  "cells": [
    {
      "attachments": {},
      "cell_type": "markdown",
      "metadata": {
        "id": "XWsM0VMzb20t"
      },
      "source": [
        "1.Load the necessary libraries"
      ]
    },
    {
      "cell_type": "code",
      "execution_count": null,
      "metadata": {
        "id": "IIQHMBpacyXo"
      },
      "outputs": [
        {
          "ename": "",
          "evalue": "",
          "output_type": "error",
          "traceback": [
            "\u001b[1;31mFailed to start the Kernel. \n",
            "\u001b[1;31mFailed to start the Kernel 'base (Python 3.9.12)'. \n",
            "\u001b[1;31mView Jupyter <a href='command:jupyter.viewOutput'>log</a> for further details. Activating /usr/bin/python3 to run Jupyter failed with Error: Workspace not trusted"
          ]
        }
      ],
      "source": [
        "import torch\n",
        "import torch.nn as nn\n",
        "import torch.nn.functional as F\n",
        "import torch.optim as optim  \n",
        "import torchvision.datasets as dataset  \n",
        "import torchvision.transforms as transforms  \n",
        "import torchvision.utils as utils \n",
        "import torch.utils.data as data_utils  "
      ]
    },
    {
      "attachments": {},
      "cell_type": "markdown",
      "metadata": {
        "id": "SThoyzrccHIf"
      },
      "source": [
        "2.Defining hyperparameters"
      ]
    },
    {
      "cell_type": "code",
      "execution_count": null,
      "metadata": {
        "id": "kTRSd_UZdeDp"
      },
      "outputs": [
        {
          "ename": "",
          "evalue": "",
          "output_type": "error",
          "traceback": [
            "\u001b[1;31mFailed to start the Kernel. \n",
            "\u001b[1;31mFailed to start the Kernel 'base (Python 3.9.12)'. \n",
            "\u001b[1;31mView Jupyter <a href='command:jupyter.viewOutput'>log</a> for further details. Activating /usr/bin/python3 to run Jupyter failed with Error: Workspace not trusted"
          ]
        }
      ],
      "source": [
        "BATCH_SIZE = 3\n",
        "DEVICE = torch.device('cuda' if torch.cuda.is_available() else 'cpu')\n",
        "EPOCHS = 10"
      ]
    },
    {
      "attachments": {},
      "cell_type": "markdown",
      "metadata": {
        "id": "3NLkfp1PcKpV"
      },
      "source": [
        "3.Build a pipeline and process the image"
      ]
    },
    {
      "cell_type": "code",
      "execution_count": null,
      "metadata": {
        "id": "N3lUOxuOfoLj"
      },
      "outputs": [
        {
          "ename": "",
          "evalue": "",
          "output_type": "error",
          "traceback": [
            "\u001b[1;31mFailed to start the Kernel. \n",
            "\u001b[1;31mFailed to start the Kernel 'base (Python 3.9.12)'. \n",
            "\u001b[1;31mView Jupyter <a href='command:jupyter.viewOutput'>log</a> for further details. Activating /usr/bin/python3 to run Jupyter failed with Error: Workspace not trusted"
          ]
        }
      ],
      "source": [
        "pipeline = transforms.Compose([\n",
        "    \n",
        "    transforms.ToTensor(),\n",
        "    transforms.Normalize  ((0.1307,),(0.3081,))\n",
        "    \n",
        "])"
      ]
    },
    {
      "attachments": {},
      "cell_type": "markdown",
      "metadata": {
        "id": "iXw34jMhcPWZ"
      },
      "source": [
        "4. Downloading and loading data"
      ]
    },
    {
      "cell_type": "code",
      "execution_count": null,
      "metadata": {
        "colab": {
          "base_uri": "https://localhost:8080/"
        },
        "id": "nksRtSSegJEX",
        "outputId": "7fe15770-3f26-40c2-828e-59fa0ca64c5c"
      },
      "outputs": [
        {
          "ename": "",
          "evalue": "",
          "output_type": "error",
          "traceback": [
            "\u001b[1;31mFailed to start the Kernel. \n",
            "\u001b[1;31mFailed to start the Kernel 'base (Python 3.9.12)'. \n",
            "\u001b[1;31mView Jupyter <a href='command:jupyter.viewOutput'>log</a> for further details. Activating /usr/bin/python3 to run Jupyter failed with Error: Workspace not trusted"
          ]
        }
      ],
      "source": [
        "from torch.utils.data import DataLoader\n",
        "\n",
        "train_data = datasets.CIFAR10('data',train=True,download=True,transform=pipeline)\n",
        "test_data =datasets.CIFAR10('data',train=False,download=True,transform=pipeline)\n",
        "\n",
        "train_dataloader = DataLoader(train_data,batch_size=BATCH_SIZE,shuffle=True)\n",
        "test_dataloader = DataLoader(test_data,batch_size=BATCH_SIZE)"
      ]
    },
    {
      "cell_type": "code",
      "execution_count": null,
      "metadata": {
        "colab": {
          "base_uri": "https://localhost:8080/",
          "height": 409
        },
        "id": "CHhnzQdRiwJ2",
        "outputId": "85168800-ed4e-44c3-b9ce-cf03688f287d"
      },
      "outputs": [
        {
          "ename": "",
          "evalue": "",
          "output_type": "error",
          "traceback": [
            "\u001b[1;31mFailed to start the Kernel. \n",
            "\u001b[1;31mFailed to start the Kernel 'base (Python 3.9.12)'. \n",
            "\u001b[1;31mView Jupyter <a href='command:jupyter.viewOutput'>log</a> for further details. Activating /usr/bin/python3 to run Jupyter failed with Error: Workspace not trusted"
          ]
        }
      ],
      "source": [
        "import numpy as np             \n",
        "import math                     \n",
        "import matplotlib.pyplot as plt \n",
        "\n",
        "print(\"Original Pytorch image\")\n",
        "image, label = train_data[2]\n",
        "print(\"torch image shape:\", image.shape)\n",
        "print(\"torch image label:\", label)\n",
        " \n",
        "print(\"\\nNumpy image after channel conversion\")\n",
        "image = image.numpy().transpose(1,2,0)  #交换维度，从GBR换成RGB\n",
        "print(\"numpy image shape:\", image.shape)\n",
        "print(\"numpy image label:\", label)\n",
        " \n",
        "plt.imshow(image)\n",
        "plt.show()\n"
      ]
    },
    {
      "attachments": {},
      "cell_type": "markdown",
      "metadata": {
        "id": "e9ZlC7VIcPdq"
      },
      "source": [
        "5. Building a network model"
      ]
    },
    {
      "cell_type": "code",
      "execution_count": null,
      "metadata": {
        "id": "Zb4cyFPol9cD"
      },
      "outputs": [
        {
          "ename": "",
          "evalue": "",
          "output_type": "error",
          "traceback": [
            "\u001b[1;31mFailed to start the Kernel. \n",
            "\u001b[1;31mFailed to start the Kernel 'base (Python 3.9.12)'. \n",
            "\u001b[1;31mView Jupyter <a href='command:jupyter.viewOutput'>log</a> for further details. Activating /usr/bin/python3 to run Jupyter failed with Error: Workspace not trusted"
          ]
        }
      ],
      "source": [
        "class Mymodel(nn.Module):\n",
        "    def __init__(self):\n",
        "        super(Mymodel, self).__init__()\n",
        "        self.model = nn.Sequential(\n",
        "            nn.Conv2d(3, 32, 5, 1, 2),\n",
        "            nn.MaxPool2d(2),\n",
        "            nn.Conv2d(32, 32, 5, 1, 2),\n",
        "            nn.MaxPool2d(2),\n",
        "            nn.Conv2d(32, 64, 5, 1, 2),\n",
        "            nn.MaxPool2d(2),\n",
        "            nn.Flatten(),\n",
        "            nn.Linear(64 * 4 * 4, 64),\n",
        "            nn.Linear(64, 10),\n",
        "        )\n",
        "\n",
        "    def forward(self, x):\n",
        "        x = self.model(x)\n",
        "        return x\n",
        "\n",
        "        output = F.log_softmax(x,dim=1)\n",
        "\n",
        "        return output\n"
      ]
    },
    {
      "cell_type": "code",
      "execution_count": null,
      "metadata": {
        "colab": {
          "base_uri": "https://localhost:8080/",
          "height": 107
        },
        "id": "rGxfJP-Pj8MV",
        "outputId": "83b59415-091c-4779-94ce-4b957bbb1114"
      },
      "outputs": [
        {
          "ename": "",
          "evalue": "",
          "output_type": "error",
          "traceback": [
            "\u001b[1;31mFailed to start the Kernel. \n",
            "\u001b[1;31mFailed to start the Kernel 'base (Python 3.9.12)'. \n",
            "\u001b[1;31mView Jupyter <a href='command:jupyter.viewOutput'>log</a> for further details. Activating /usr/bin/python3 to run Jupyter failed with Error: Workspace not trusted"
          ]
        }
      ],
      "source": [
        "'''\n",
        "class Mymodel(nn.Module):\n",
        "  def __init__(self):\n",
        "    super(Mymodel,self).__init__()\n",
        "    self.conv1 = nn.Conv2d(3, 32, 5, 1, 2)\n",
        "    self.conv2 = nn.Conv2d(32, 32, 5, 1, 2)\n",
        "    self.fc1 = nn.Linear(64 * 4 * 4, 64)\n",
        "    self.fc2 = nn.Linear(64, 10)\n",
        "\n",
        "  def forward(self,x):\n",
        "    input_size = x.size(0)\n",
        "    x = self.conv1(x)\n",
        "    x = F.relu(x)\n",
        "    \n",
        "\n",
        "    x = self.conv2(x)\n",
        "    x = F.relu(x)\n",
        "\n",
        "    x = x.view(input_size, -1)\n",
        "\n",
        "    x = self.fc1(x)\n",
        "    x = F.relu(x)\n",
        "\n",
        "    x = self.fc2(x)\n",
        "\n",
        "    output = F.log_softmax(x,dim=1)\n",
        "\n",
        "    return output\n",
        "'''\n"
      ]
    },
    {
      "attachments": {},
      "cell_type": "markdown",
      "metadata": {
        "id": "bWwWiymRcPhb"
      },
      "source": [
        "6. Setting up the optimiser"
      ]
    },
    {
      "cell_type": "code",
      "execution_count": null,
      "metadata": {
        "id": "-CzP6KTKpPZu"
      },
      "outputs": [
        {
          "ename": "",
          "evalue": "",
          "output_type": "error",
          "traceback": [
            "\u001b[1;31mFailed to start the Kernel. \n",
            "\u001b[1;31mFailed to start the Kernel 'base (Python 3.9.12)'. \n",
            "\u001b[1;31mView Jupyter <a href='command:jupyter.viewOutput'>log</a> for further details. Activating /usr/bin/python3 to run Jupyter failed with Error: Workspace not trusted"
          ]
        }
      ],
      "source": [
        "model = Mymodel().to(DEVICE)\n",
        "\n",
        "optimizer = optim.Adam(model.parameters())"
      ]
    },
    {
      "attachments": {},
      "cell_type": "markdown",
      "metadata": {
        "id": "HYZVy3l1cPld"
      },
      "source": [
        "7. Setting up training methods"
      ]
    },
    {
      "cell_type": "code",
      "execution_count": null,
      "metadata": {
        "id": "KGmumyfXuQfw"
      },
      "outputs": [
        {
          "ename": "",
          "evalue": "",
          "output_type": "error",
          "traceback": [
            "\u001b[1;31mFailed to start the Kernel. \n",
            "\u001b[1;31mFailed to start the Kernel 'base (Python 3.9.12)'. \n",
            "\u001b[1;31mView Jupyter <a href='command:jupyter.viewOutput'>log</a> for further details. Activating /usr/bin/python3 to run Jupyter failed with Error: Workspace not trusted"
          ]
        }
      ],
      "source": [
        "def train_model(model,device,train_dataloader,optimizer,epoch):\n",
        "    model.train()\n",
        "    for batch_index,(data,target) in enumerate(train_dataloader):\n",
        "        \n",
        "        data,target = data.to(device),target.to(device)\n",
        "        \n",
        "        optimizer.zero_grad()\n",
        "\n",
        "        output = model(data)\n",
        "\n",
        "        loss = F.cross_entropy(output,target)\n",
        "\n",
        "        loss.backward()\n",
        "\n",
        "        optimizer.step()\n",
        "        \n",
        "        if batch_index % 3000 == 0:\n",
        "            print(\"Train Epoch : {} \\t Loss : {:.6f}\".format(epoch,loss.item()))"
      ]
    },
    {
      "attachments": {},
      "cell_type": "markdown",
      "metadata": {
        "id": "Lmv1VYgEcpDU"
      },
      "source": [
        "8. Setting up the test method"
      ]
    },
    {
      "cell_type": "code",
      "execution_count": null,
      "metadata": {
        "id": "kf37vR_rbvWt"
      },
      "outputs": [
        {
          "ename": "",
          "evalue": "",
          "output_type": "error",
          "traceback": [
            "\u001b[1;31mFailed to start the Kernel. \n",
            "\u001b[1;31mFailed to start the Kernel 'base (Python 3.9.12)'. \n",
            "\u001b[1;31mView Jupyter <a href='command:jupyter.viewOutput'>log</a> for further details. Activating /usr/bin/python3 to run Jupyter failed with Error: Workspace not trusted"
          ]
        }
      ],
      "source": [
        "def test_model(model,device,test_dataloader):\n",
        "    model.eval()\n",
        "\n",
        "    correct = 0.0\n",
        "    test_loss = 0.0\n",
        "\n",
        "    with torch.no_grad():\n",
        "        for data,target in test_dataloader:\n",
        "            data,target = data.to(device),target.to(device)\n",
        "\n",
        "            output = model(data)\n",
        "\n",
        "            test_loss += F.cross_entropy(output,target)\n",
        "\n",
        "            pred = output.argmax(dim=1)\n",
        "\n",
        "            correct += pred.eq(target.view_as(pred)).sum().item()\n",
        "\n",
        "        test_loss/= len(test_dataloader.dataset)\n",
        "\n",
        "        print(\"Test_average loss:{:.4f},Accuracy:{:.3F}\\n\".format(test_loss.item(),100.0*correct/len(test_dataloader.dataset)))\n",
        "\n"
      ]
    },
    {
      "attachments": {},
      "cell_type": "markdown",
      "metadata": {
        "id": "AEylt86If0cU"
      },
      "source": [
        "9. Calling methods"
      ]
    },
    {
      "cell_type": "code",
      "execution_count": null,
      "metadata": {
        "colab": {
          "base_uri": "https://localhost:8080/",
          "height": 1000
        },
        "id": "gb4jlHW-f3mQ",
        "outputId": "334891bb-1ae1-4931-f23f-e084c2f75491"
      },
      "outputs": [
        {
          "ename": "",
          "evalue": "",
          "output_type": "error",
          "traceback": [
            "\u001b[1;31mFailed to start the Kernel. \n",
            "\u001b[1;31mFailed to start the Kernel 'base (Python 3.9.12)'. \n",
            "\u001b[1;31mView Jupyter <a href='command:jupyter.viewOutput'>log</a> for further details. Activating /usr/bin/python3 to run Jupyter failed with Error: Workspace not trusted"
          ]
        }
      ],
      "source": [
        "for epoch in range(1,EPOCHS + 1):\n",
        "      train_model(model,DEVICE,train_dataloader,optimizer,epoch)\n",
        "      test_model(model,DEVICE,test_dataloader)"
      ]
    }
  ],
  "metadata": {
    "accelerator": "GPU",
    "colab": {
      "provenance": []
    },
    "gpuClass": "standard",
    "kernelspec": {
      "display_name": "base",
      "language": "python",
      "name": "python3"
    },
    "language_info": {
      "name": "python",
      "version": "3.9.12 (main, Apr  5 2022, 01:53:17) \n[Clang 12.0.0 ]"
    },
    "vscode": {
      "interpreter": {
        "hash": "8a201f00eda21c5b230f24e3162e141387d970bfabaa2ae0de9a182c6ad25deb"
      }
    }
  },
  "nbformat": 4,
  "nbformat_minor": 0
}
